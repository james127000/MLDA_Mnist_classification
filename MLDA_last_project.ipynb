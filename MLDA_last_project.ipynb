{
 "cells": [
  {
   "cell_type": "code",
   "execution_count": null,
   "metadata": {
    "colab": {
     "base_uri": "https://localhost:8080/",
     "height": 810
    },
    "colab_type": "code",
    "id": "Cmm0kwrT6rCL",
    "outputId": "63b5a038-dd5c-41de-c5da-e8820cab55d4"
   },
   "outputs": [],
   "source": [
    "!pip install tensorflow keras numpy mnist matplotlib"
   ]
  },
  {
   "cell_type": "code",
   "execution_count": null,
   "metadata": {
    "colab": {
     "base_uri": "https://localhost:8080/",
     "height": 34
    },
    "colab_type": "code",
    "id": "kJLALpX07YLX",
    "outputId": "92a7402b-a76c-4a86-ecd7-7ccf18a83353"
   },
   "outputs": [],
   "source": [
    "import numpy as np\n",
    "import mnist\n",
    "import matplotlib.pyplot as plt\n",
    "from keras.models import Sequential\n",
    "from keras.layers import Dense\n",
    "from keras.utils import to_categorical"
   ]
  },
  {
   "cell_type": "code",
   "execution_count": null,
   "metadata": {
    "colab": {},
    "colab_type": "code",
    "id": "HO2RIMVd7lxl"
   },
   "outputs": [],
   "source": [
    "#load the data set\n",
    "train_images = mnist.train_images()\n",
    "train_labels = mnist.train_labels()\n",
    "test_images = mnist.test_images()\n",
    "test_labels = mnist.test_labels()"
   ]
  },
  {
   "cell_type": "code",
   "execution_count": null,
   "metadata": {
    "colab": {
     "base_uri": "https://localhost:8080/",
     "height": 50
    },
    "colab_type": "code",
    "id": "gCYtg8MnCPDl",
    "outputId": "d2e95eb2-2218-4dec-ea20-731005c9e616"
   },
   "outputs": [],
   "source": [
    "#Normalize the images. Normalize the pixel values from [0, 255] tp\n",
    "#[-0.5 , 0.5] to make our network easier to train\n",
    "train_images = (train_images/255) - 0.5\n",
    "test_images = (test_images/255) - 0.5\n",
    "#flatten the images. Flatten each 28x28 image into a 784 dimensional vector\n",
    "#to pass into the neural network\n",
    "train_images=train_images.reshape((-1,784))\n",
    "test_images=test_images.reshape((-1,784))\n",
    "#Print the shape\n",
    "print(train_images.shape) # we have 60000 images with size 28x28\n",
    "print(test_images.shape)  # we have 10000 images with size 28x28"
   ]
  },
  {
   "cell_type": "code",
   "execution_count": null,
   "metadata": {
    "colab": {},
    "colab_type": "code",
    "id": "iEjShxV0EKJY"
   },
   "outputs": [],
   "source": [
    "#Build the model\n",
    "# 3 layers:\n",
    "#   - 2 layers with 64 neurons and the relu function\n",
    "#   - 1 layer with 10 neurons and softmax function\n",
    "model =Sequential()\n",
    "model.add( Dense(64, activation='relu', input_dim=784)) # layer1\n",
    "model.add( Dense(64, activation='relu'))                # layer2\n",
    "model.add( Dense(10, activation='softmax'))             # Layer3"
   ]
  },
  {
   "cell_type": "code",
   "execution_count": null,
   "metadata": {
    "colab": {},
    "colab_type": "code",
    "id": "tWpYqHFYEw8H"
   },
   "outputs": [],
   "source": [
    "#Compile the model\n",
    "# The  loss function measures how well the model did on training\n",
    "#try to improve on it using the optimizer\n",
    "model.compile(\n",
    "    optimizer='adam',\n",
    "    loss ='categorical_crossentropy',\n",
    "    metrics = ['accuracy']\n",
    ")"
   ]
  },
  {
   "cell_type": "code",
   "execution_count": null,
   "metadata": {
    "colab": {
     "base_uri": "https://localhost:8080/",
     "height": 202
    },
    "colab_type": "code",
    "id": "7jtAs4VJIJyS",
    "outputId": "8ef72b21-d861-4f22-8ac6-5db5f61634a4"
   },
   "outputs": [],
   "source": [
    "#train the model\n",
    "model.fit(\n",
    "    train_images,\n",
    "    to_categorical(train_labels),\n",
    "    epochs = 5,\n",
    "    batch_size=32\n",
    ")"
   ]
  },
  {
   "cell_type": "code",
   "execution_count": null,
   "metadata": {
    "colab": {
     "base_uri": "https://localhost:8080/",
     "height": 50
    },
    "colab_type": "code",
    "id": "Zw84tyN-J_EO",
    "outputId": "862d581e-9919-4180-e9ea-562b76d31dd5"
   },
   "outputs": [],
   "source": [
    "#evaluate the model\n",
    "model.evaluate(\n",
    "    test_images,\n",
    "    to_categorical(test_labels)\n",
    ")"
   ]
  },
  {
   "cell_type": "code",
   "execution_count": null,
   "metadata": {
    "colab": {
     "base_uri": "https://localhost:8080/",
     "height": 50
    },
    "colab_type": "code",
    "id": "Ma3Sq--pKa9d",
    "outputId": "096189f3-2160-48c9-d70b-15366ed8c33e"
   },
   "outputs": [],
   "source": [
    "#predict on the first 5 test images\n",
    "predictions = model.predict(test_images[:5])\n",
    "#print our model prediction\n",
    "print(np.argmax(predictions,axis =1))\n",
    "print(test_labels[:5])"
   ]
  },
  {
   "cell_type": "code",
   "execution_count": null,
   "metadata": {
    "colab": {
     "base_uri": "https://localhost:8080/",
     "height": 1000
    },
    "colab_type": "code",
    "id": "0CDtWjQAK22y",
    "outputId": "8eaf3186-b32d-4e0c-c77b-7103a5712dea"
   },
   "outputs": [],
   "source": [
    "for i in range(0,5):\n",
    "  first_image= test_images[i]\n",
    "  first_image = np.array(first_image, dtype='float')\n",
    "  pixels = first_image.reshape((28,28))\n",
    "  plt.imshow(pixels)\n",
    "  plt.show()"
   ]
  }
 ],
 "metadata": {
  "colab": {
   "name": "MLDA last project",
   "provenance": []
  },
  "kernelspec": {
   "display_name": "Python 3",
   "language": "python",
   "name": "python3"
  },
  "language_info": {
   "codemirror_mode": {
    "name": "ipython",
    "version": 3
   },
   "file_extension": ".py",
   "mimetype": "text/x-python",
   "name": "python",
   "nbconvert_exporter": "python",
   "pygments_lexer": "ipython3",
   "version": "3.7.3"
  }
 },
 "nbformat": 4,
 "nbformat_minor": 1
}
